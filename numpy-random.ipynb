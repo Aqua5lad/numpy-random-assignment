{
 "cells": [
  {
   "cell_type": "markdown",
   "metadata": {},
   "source": [
    "# The numpy.random package\n",
    "A notebook by Colm. Doherty, November 2018."
   ]
  },
  {
   "cell_type": "markdown",
   "metadata": {},
   "source": [
    "## About Numpy.random\n",
    "The numpy.random package is a sub-package of the Numpy library<sup>[1]</sup> for the Python programming language. Numpy is used for dealing with multi-dimensional arrays of values and matrix operations in data analysis. While it’s a powerful and widely used package, users seldom interact directly with it - it’s typically accessed via one of the sub-packages such as numpy.random."
   ]
  },
  {
   "cell_type": "markdown",
   "metadata": {},
   "source": [
    "### It’s Overall Purpose\n",
    "The purpose of numpy.random is to provide users with a selection of methods by which pseudo random numbers can be generated for use in various applications. A typical application is in the creation of sampling plans. \n",
    "\n",
    "While its not currently possible for a computer to create truly random values, pseudo random numbers (derived from any method using computational algorithms) offer a useful simulation of actual random values. In theory, a higher degree of apparent randomness may characterise numbers generated from methods using electromagnetic atmospheric noise as a source input. <sup>[2]</sup> With the advent of ‘quantum computing’ perhaps it may finally become possible to generate truly random values. "
   ]
  },
  {
   "cell_type": "markdown",
   "metadata": {},
   "source": [
    "### Who needs random numbers?\n",
    "\n",
    "Random numbers and probability distributions are an essential input into data modeling and prediction making. These include weather prediction, earthquake prediction, professional sports & training (eg. probability of making a basketball shot from various positions on the court), Mean Time Between Failure (MTBF) for electronic components, financial investment decisions, sports betting, pharma drug trials, etc. \n",
    "\n",
    "A randomized controlled trial (RCT) is a type of scientific (often medical) experiment which aims to reduce bias when testing a new treatment. The people participating in the trial are randomly allocated to either the group receiving the treatment under investigation or to a group receiving standard treatment (or placebo treatment) as the control. Randomization minimises selection bias and the different comparison groups allow the researchers to determine any effects of the treatment when compared with the no treatment (control) group, while other variables are kept constant. \n",
    "\n",
    "The RCT is often considered the gold standard for a clinical trial. <sup>[2a]</sup> In fact the RCT is regarded as the ‘gold standard’ for all scientific experiments. Multiple Regression Analysis is often used to discover correlations and “prove” causation, but the independent variables measured often lack validity. (per. ‘Mindware: critical thinking for the information age’ - a University of Michigan course taken by the writer this summer).\n",
    "\n",
    "Aside from their use in sampling and simulations, one real-world application for pseudo random numbers which I have personally encountered is in the online gaming industry. In this case, a stream of pseudo random numbers is accessed by connected gaming terminals in bookmakers shops, pubs etc to produce results in so-called “games of chance”, where the user’s skills have no influence on the result. As a mission critical component in the network, the random number generator (RNG) runs 24x7 for 365 days a year, and any interruption of service is flagged by loud alarms in the HQ where the operations team quickly work to restore service!"
   ]
  },
  {
   "cell_type": "markdown",
   "metadata": {},
   "source": [
    "### Sampling Methods\n",
    "Sampling Methods can be classified into one of two categories:<sup>[3]</sup>\n",
    "\n",
    "1) Probability Sampling: The sample has a known probability of being selected. All of the distributions illustrated here are examples of probability sampling.These techniques are more likely to yield a sample which is representative of the whole population, to within a calculated margin of error.\n",
    "\n",
    "2) Non-probability Sampling: The sample does not have a known probability of being selected. In contrast with probability sampling, a non-probability sample is not a product of a randomized selection processes. Subjects in a non-probability sample are usually selected on the basis of their accessibility or by the personal judgment of the researcher. <sup>[4]</sup> Such techniques are unlikely to yield a sample which is representative of the whole population.\n"
   ]
  },
  {
   "cell_type": "markdown",
   "metadata": {},
   "source": [
    "## The use of the Simple Random Data functions \n",
    "The “Simple random data” functions<sup>[5]</sup> in numpy.random provide a range of methods for creating random values in a variety of arrays, formats and structures, depending on the specific needs of the user. This is a good starting point for devising a basic sampling plan. \n"
   ]
  },
  {
   "cell_type": "markdown",
   "metadata": {},
   "source": [
    "### Using numpy.random.rand\n",
    "Simple random data functions in numpy.random begin with numpy.random.rand <sup>[6]</sup>, which allows you to create an array of a given shape and populate it with random floating values of a uniform distribution, from 0 to 0.99999999.\n",
    "For example, here's an array of 3 sets of sample values, of 4 rows and 3 columns each, generated by np.random.rand "
   ]
  },
  {
   "cell_type": "code",
   "execution_count": 1,
   "metadata": {},
   "outputs": [],
   "source": [
    "import numpy as np"
   ]
  },
  {
   "cell_type": "code",
   "execution_count": 2,
   "metadata": {
    "scrolled": true
   },
   "outputs": [
    {
     "data": {
      "text/plain": [
       "array([[[0.57781639, 0.20214871, 0.52259429],\n",
       "        [0.57790152, 0.20891794, 0.45106121],\n",
       "        [0.45823683, 0.94356723, 0.83644364],\n",
       "        [0.85138614, 0.57054894, 0.7140152 ]],\n",
       "\n",
       "       [[0.35842801, 0.74850605, 0.97840575],\n",
       "        [0.47089677, 0.87271697, 0.79378254],\n",
       "        [0.76671679, 0.90444476, 0.60970178],\n",
       "        [0.67680854, 0.16378305, 0.86643375]],\n",
       "\n",
       "       [[0.00738461, 0.96894412, 0.10237428],\n",
       "        [0.38871266, 0.13697304, 0.26930229],\n",
       "        [0.14943615, 0.62843986, 0.66537483],\n",
       "        [0.5382036 , 0.865541  , 0.2875939 ]]])"
      ]
     },
     "execution_count": 2,
     "metadata": {},
     "output_type": "execute_result"
    }
   ],
   "source": [
    "np.random.rand(3,4,3)"
   ]
  },
  {
   "cell_type": "markdown",
   "metadata": {},
   "source": [
    "Even in such small sample sizes, each of these values is almost as likely to appear in the array as any other, as it's a uniform distribution."
   ]
  },
  {
   "cell_type": "markdown",
   "metadata": {},
   "source": [
    "### Using numpy.random.randint"
   ]
  },
  {
   "cell_type": "markdown",
   "metadata": {},
   "source": [
    "Another simple random data function is numpy.random.randint <sup>[7]</sup>, which can create an array of integers between defined low & high limits, from the “discrete uniform” distribution in the closed interval [low, high]. For example, to create an array of 10 integers, greater than 0 and less than or equal to 100 :"
   ]
  },
  {
   "cell_type": "code",
   "execution_count": 3,
   "metadata": {},
   "outputs": [
    {
     "data": {
      "text/plain": [
       "array([58, 35, 38, 21, 52, 19, 81, 72, 94, 39])"
      ]
     },
     "execution_count": 3,
     "metadata": {},
     "output_type": "execute_result"
    }
   ],
   "source": [
    "np.random.randint(100, size=10)"
   ]
  },
  {
   "cell_type": "markdown",
   "metadata": {},
   "source": [
    "## Permutations\n",
    "The “Permutation” functions offer a range of methods for randomising the arrangement (or order) of a defined sequence of values. This could be a good starting point for a programmer creating a music shuffle function."
   ]
  },
  {
   "cell_type": "code",
   "execution_count": 4,
   "metadata": {},
   "outputs": [],
   "source": [
    "import numpy as np"
   ]
  },
  {
   "cell_type": "markdown",
   "metadata": {},
   "source": [
    "Here is an example of a permutation function using the shuffle command, starting with an initial array:"
   ]
  },
  {
   "cell_type": "code",
   "execution_count": 5,
   "metadata": {},
   "outputs": [
    {
     "data": {
      "text/plain": [
       "array([ 0,  1,  2,  3,  4,  5,  6,  7,  8,  9, 10, 11, 12, 13, 14])"
      ]
     },
     "execution_count": 5,
     "metadata": {},
     "output_type": "execute_result"
    }
   ],
   "source": [
    "arr = np.arange(15)\n",
    "arr"
   ]
  },
  {
   "cell_type": "markdown",
   "metadata": {},
   "source": [
    "Here it is, randomly shuffled:"
   ]
  },
  {
   "cell_type": "code",
   "execution_count": 6,
   "metadata": {},
   "outputs": [
    {
     "data": {
      "text/plain": [
       "array([ 6,  2,  8,  0, 10,  3, 14,  5,  4, 12,  1,  9, 11, 13,  7])"
      ]
     },
     "execution_count": 6,
     "metadata": {},
     "output_type": "execute_result"
    }
   ],
   "source": [
    "np.random.shuffle(arr)\n",
    "arr"
   ]
  },
  {
   "cell_type": "markdown",
   "metadata": {},
   "source": [
    "Incidently, how many permutations are possible in this example? How many unique ways could you arrange 15 books on a shelf? The answer is 15*14*13*12*11*10*9*8*7*6*5*4*3*2*1 or \"factorial 15\", expressed as 15! - and the number of permutations is 1.3076744e+12 .... or 1,307,674,368,000 "
   ]
  },
  {
   "cell_type": "markdown",
   "metadata": {},
   "source": [
    "## About Probability Distributions"
   ]
  },
  {
   "cell_type": "markdown",
   "metadata": {},
   "source": [
    "A probability distribution is a mathematical function that provides the probabilities of occurrence of different possible outcomes in an experiment.<sup>[8]</sup>\n",
    "The concept of the probability distribution and the random variables which they describe underlies the mathematical discipline of probability theory, and the science of statistics. There is spread or variability in almost any value that can be measured in a population (e.g. height of people, durability of a metal, sales growth, traffic flow, etc.). \n",
    "\n",
    "Examples of Probability distributions include the following:"
   ]
  },
  {
   "cell_type": "markdown",
   "metadata": {},
   "source": [
    "### 1. Uniform Distribution"
   ]
  },
  {
   "cell_type": "code",
   "execution_count": 7,
   "metadata": {},
   "outputs": [],
   "source": [
    "import matplotlib.pyplot as plt"
   ]
  },
  {
   "cell_type": "markdown",
   "metadata": {},
   "source": [
    "Lets generate 30,000 random values of between 0 and 0.99999999"
   ]
  },
  {
   "cell_type": "code",
   "execution_count": 8,
   "metadata": {},
   "outputs": [
    {
     "data": {
      "text/plain": [
       "array([0.45503711, 0.30584403, 0.63716195, ..., 0.43495718, 0.52134564,\n",
       "       0.14479227])"
      ]
     },
     "execution_count": 8,
     "metadata": {},
     "output_type": "execute_result"
    }
   ],
   "source": [
    "x = np.random.rand(30000)\n",
    "x"
   ]
  },
  {
   "cell_type": "markdown",
   "metadata": {},
   "source": [
    "To illustrate the distribution of the random values generated by the np.random.rand function, we can use it to generate a sample of values and then plot them using the matplotlib function. "
   ]
  },
  {
   "cell_type": "code",
   "execution_count": 9,
   "metadata": {},
   "outputs": [
    {
     "data": {
      "text/plain": [
       "(array([3064., 3085., 2900., 2995., 2933., 2945., 2984., 3027., 2923.,\n",
       "        3144.]),\n",
       " array([3.33826694e-06, 1.00001165e-01, 1.99998992e-01, 2.99996818e-01,\n",
       "        3.99994645e-01, 4.99992472e-01, 5.99990299e-01, 6.99988125e-01,\n",
       "        7.99985952e-01, 8.99983779e-01, 9.99981606e-01]),\n",
       " <a list of 10 Patch objects>)"
      ]
     },
     "execution_count": 9,
     "metadata": {},
     "output_type": "execute_result"
    },
    {
     "data": {
      "image/png": "[encoded data removed]",
      "text/plain": [
       "<Figure size 432x288 with 1 Axes>"
      ]
     },
     "metadata": {},
     "output_type": "display_data"
    }
   ],
   "source": [
    "# Plot the distribution of these values in a histogram\n",
    "plt.xlabel ('values')\n",
    "plt.ylabel ('instances')\n",
    "plt.hist(x)\n"
   ]
  },
  {
   "cell_type": "markdown",
   "metadata": {},
   "source": [
    "That's what a randomly generated, essentially uniform distribution looks like. It's uniform insofaras every value in the range defined had an equal chance of being picked. We see approx 3,000 appearances of each value. \n",
    "\n",
    "Another function which generates a uniform distribution is np.random.uniform :"
   ]
  },
  {
   "cell_type": "code",
   "execution_count": 10,
   "metadata": {},
   "outputs": [],
   "source": [
    "# randomly generate 1000 values from >-10 to <-9\n",
    "s = np.random.uniform(-10,-9,1000)"
   ]
  },
  {
   "cell_type": "markdown",
   "metadata": {},
   "source": [
    "the np.random.uniform function seems to show a quite different looking distribution for this 1000 unit sample, but the larger the sample size the more uniform it looks."
   ]
  },
  {
   "cell_type": "code",
   "execution_count": 11,
   "metadata": {},
   "outputs": [
    {
     "data": {
      "text/plain": [
       "(array([110., 103.,  94., 109.,  86.,  87., 108.,  93., 109., 101.]),\n",
       " array([-9.99987581, -9.90007318, -9.80027055, -9.70046793, -9.6006653 ,\n",
       "        -9.50086267, -9.40106005, -9.30125742, -9.20145479, -9.10165217,\n",
       "        -9.00184954]),\n",
       " <a list of 10 Patch objects>)"
      ]
     },
     "execution_count": 11,
     "metadata": {},
     "output_type": "execute_result"
    },
    {
     "data": {
      "image/png": "[encoded data removed]",
      "text/plain": [
       "<Figure size 432x288 with 1 Axes>"
      ]
     },
     "metadata": {},
     "output_type": "display_data"
    }
   ],
   "source": [
    "plt.xlabel ('values')\n",
    "plt.ylabel ('instances')\n",
    "plt.hist(s)"
   ]
  },
  {
   "cell_type": "markdown",
   "metadata": {},
   "source": [
    "### 2. Normal Distribution"
   ]
  },
  {
   "cell_type": "markdown",
   "metadata": {},
   "source": [
    "A Normal (or Gaussian) distribution is related to real-valued quantities that grow linearly (e.g. errors, offsets). Its the most common continuous distribution. We can use the 'numpy.random.normal' function which generates a normal distribution looking more like the classic 'bell curve'."
   ]
  },
  {
   "cell_type": "code",
   "execution_count": 12,
   "metadata": {},
   "outputs": [],
   "source": [
    "# randomly generate 1000 values, normally distributed with a mean of 0, in increments of 0.1\n",
    "y = np.random.normal(0,0.1,1000)"
   ]
  },
  {
   "cell_type": "code",
   "execution_count": 13,
   "metadata": {},
   "outputs": [
    {
     "data": {
      "text/plain": [
       "(array([  2.,  21.,  63., 151., 196., 236., 190., 104.,  30.,   7.]),\n",
       " array([-0.32889849, -0.26579905, -0.20269962, -0.13960018, -0.07650074,\n",
       "        -0.0134013 ,  0.04969813,  0.11279757,  0.17589701,  0.23899644,\n",
       "         0.30209588]),\n",
       " <a list of 10 Patch objects>)"
      ]
     },
     "execution_count": 13,
     "metadata": {},
     "output_type": "execute_result"
    },
    {
     "data": {
      "image/png": "[encoded data removed]",
      "text/plain": [
       "<Figure size 432x288 with 1 Axes>"
      ]
     },
     "metadata": {},
     "output_type": "display_data"
    }
   ],
   "source": [
    "# plot the distribution\n",
    "plt.xlabel ('values')\n",
    "plt.ylabel ('instances')\n",
    "plt.hist(y)"
   ]
  },
  {
   "cell_type": "markdown",
   "metadata": {},
   "source": [
    "This Normal distribution shows observations clustered around the Mean value of zero. The chances of values close to zero being picked are greater than for those at the extremities of the distribution. Typically 95% of all observations in a Normal distribution fall within +/- 2 Standard Deviations from the Mean."
   ]
  },
  {
   "cell_type": "markdown",
   "metadata": {},
   "source": [
    "Notice that its the 1st digit in np.random.normal (0,0.1,10000) which defines the MEAN in this distribution - in this case 0. You can make it any value you choose. Equally, the 2nd digit defines the intervals in the range."
   ]
  },
  {
   "cell_type": "markdown",
   "metadata": {},
   "source": [
    "### 3. Pareto Distribution"
   ]
  },
  {
   "cell_type": "markdown",
   "metadata": {},
   "source": [
    "The Pareto distribution seeks to describe quantities which have a particular property: namely, that a few items account for a lot of it and a lot of items account for a little of it.\n",
    "\n",
    "For example, if we think of wealth distribition, a small fraction of the people (the few richest ones) tend to account for a large fraction of total income, and a large fraction of the people tend to account for a small fraction of total income.<sup>[9]</sup>\n"
   ]
  },
  {
   "cell_type": "code",
   "execution_count": 14,
   "metadata": {},
   "outputs": [
    {
     "name": "stderr",
     "output_type": "stream",
     "text": [
      "/anaconda3/lib/python3.6/site-packages/matplotlib/axes/_axes.py:6462: UserWarning: The 'normed' kwarg is deprecated, and has been replaced by the 'density' kwarg.\n",
      "  warnings.warn(\"The 'normed' kwarg is deprecated, and has been \"\n"
     ]
    },
    {
     "data": {
      "image/png": "[encoded data removed]",
      "text/plain": [
       "<Figure size 432x288 with 1 Axes>"
      ]
     },
     "metadata": {},
     "output_type": "display_data"
    }
   ],
   "source": [
    "# Use the pareto function to draw samples from the distribution:\n",
    "a, m = 2, 3.  # shape and mode\n",
    "s = (np.random.pareto(a, 1000) + 7) * m\n",
    "\n",
    "# Display the histogram of the samples, along with the probability density function:\n",
    "import matplotlib.pyplot as plt\n",
    "count, bins, _ = plt.hist(s, 100, normed=True)\n",
    "fit = a*m**a / bins**(a+1)\n",
    "plt.plot(bins, max(count)*fit/max(fit), linewidth=2, color='c')\n",
    "plt.xlabel ('Money (m)')\n",
    "plt.ylabel ('Probability P(m)')\n",
    "plt.show ()"
   ]
  },
  {
   "cell_type": "markdown",
   "metadata": {},
   "source": [
    "This pareto distribution illustrates the probabilty of a given individual securing a given share of the wealth in a country (Money(m)) - It shows that its far more probable they will secure a small share, than it is likely they will get a large share."
   ]
  },
  {
   "cell_type": "markdown",
   "metadata": {},
   "source": [
    "### 4. Binomial Distribution"
   ]
  },
  {
   "cell_type": "markdown",
   "metadata": {},
   "source": [
    "The binomial distribution model is an important probability model that is used when there are two possible outcomes (hence \"binomial\"). <sup>[10]</sup>\n",
    "\n",
    "For example, adults who suffer a myocardial infarction might survive the heart attack or not, a medical device such as a coronary stent might be successfully implanted or not. These are some examples of applications or processes in which the outcome of interest has two possible values (i.e., it is dichotomous). The two outcomes are often labeled \"success\" and \"failure\" with success indicating the presence of the outcome of interest. \n",
    "\n",
    "The binomial distribution model allows us to compute the probability of observing a specified number of \"successes\" when the process is repeated a specific number of times and the outcome for a given patient is either a success or a failure. \n",
    "\n",
    "Use of the binomial distribution requires three assumptions:\n",
    "\n",
    "1. Each replication of the process results in one of two possible outcomes (success or failure),\n",
    "2. The probability of success is the same for each replication, and\n",
    "3. The replications are independent. A success in one patient does not influence the probability of success in another.\n",
    "\n",
    "The numpy.random.binomial function is used here to illustrate the distribution. <sup>[11]</sup>\n"
   ]
  },
  {
   "cell_type": "code",
   "execution_count": 15,
   "metadata": {},
   "outputs": [
    {
     "data": {
      "text/plain": [
       "(array([ 14.,  49., 111., 208., 258., 201., 108.,  40.,   9.,   2.]),\n",
       " array([ 1. ,  1.9,  2.8,  3.7,  4.6,  5.5,  6.4,  7.3,  8.2,  9.1, 10. ]),\n",
       " <a list of 10 Patch objects>)"
      ]
     },
     "execution_count": 15,
     "metadata": {},
     "output_type": "execute_result"
    },
    {
     "data": {
      "image/png": "[encoded data removed]",
      "text/plain": [
       "<Figure size 432x288 with 1 Axes>"
      ]
     },
     "metadata": {},
     "output_type": "display_data"
    }
   ],
   "source": [
    "# plot the histogram where the number of trials = 10, \n",
    "# the probability of each trial = 50%, tested 1000 times.\n",
    "\n",
    "plt.xlabel ('values')\n",
    "plt.ylabel ('instances')\n",
    "plt.hist(x = np.random.binomial(10, 0.5, 1000)) \n"
   ]
  },
  {
   "cell_type": "markdown",
   "metadata": {},
   "source": [
    "So, when tested 1,000 times, 5 out of 10 trials conducted gave a successful result on 250 occasions."
   ]
  },
  {
   "cell_type": "markdown",
   "metadata": {},
   "source": [
    "### 5. Exponential Distribution"
   ]
  },
  {
   "cell_type": "markdown",
   "metadata": {},
   "source": [
    "The exponential distribution can be used to model the time between events in a continuous Poisson process. It is assumed that independent events occur at a constant rate. <sup>[12]</sup>\n",
    "\n",
    "This distribution has a wide range of applications, including reliability analysis of products and systems, queuing theory, and Markov chains. For example, the exponential distribution can be used to model:\n",
    "\n",
    "* How long it takes for electronic components to fail\n",
    "* The time interval between customers' arrivals at a terminal\n",
    "* Service time for customers waiting in line\n",
    "* The time until default on a payment (credit risk modeling)\n",
    "* Time until a radioactive nucleus decays"
   ]
  },
  {
   "cell_type": "markdown",
   "metadata": {},
   "source": [
    "Lets take an example - arrival times to a bank counter are modeled by a poisson process with a rate of 30 customers per hour (expressed as 0.5 per minute). Using the random.exponential function we can calculate the probability of any given arrival rate per minute occuring. <sup>[12]</sup> <sup>[13]</sup>"
   ]
  },
  {
   "cell_type": "code",
   "execution_count": 16,
   "metadata": {},
   "outputs": [
    {
     "data": {
      "image/png": "[encoded data removed]",
      "text/plain": [
       "<Figure size 432x288 with 1 Axes>"
      ]
     },
     "metadata": {},
     "output_type": "display_data"
    }
   ],
   "source": [
    "x = np.random.exponential(0.5,1000)\n",
    "plt.hist(x)\n",
    "plt.xlabel ('Arrival Rate per minute (x)')\n",
    "plt.ylabel ('Probability P(x)')\n",
    "plt.show()\n",
    "# divide P(x) by 1000 to find the probability rate out of 1."
   ]
  },
  {
   "cell_type": "markdown",
   "metadata": {},
   "source": [
    "this shows the highest probable arrival rate is 0.5 per minute or less."
   ]
  },
  {
   "cell_type": "markdown",
   "metadata": {},
   "source": [
    "## Using Seeds in Random Number Generation (RNG)"
   ]
  },
  {
   "cell_type": "markdown",
   "metadata": {},
   "source": [
    "To initiate a random number sequence a 'seed' value is required. Typically this could be the timestamp, down to the microsecond, from the processor when the RNG program starts. But the seed could be generated from any random source - eg. the temperature of the processor, or a number found somewhere in the decimal expansion of the value for Pi. \n",
    "\n",
    "The seed is critical to the security of a random number sequence. As long as it's unknown to any program trying to 'crack' it, it's virtually impossible to guess what the sequence will be. Equally, if the seed is known, and tests are run with enough RNG algorithms, then the \"random\" sequence will be discovered - a useful reminder that the sequence generated is only \"pseudo random\". Using a given seed and a given algoritm, the same number sequence will be generated every time.\n",
    "\n",
    "The numpy.random library includes four functions which can be used in random number generation, examples of which now follow. <sup>[14]</sup> <sup>[15]</sup>"
   ]
  },
  {
   "cell_type": "markdown",
   "metadata": {},
   "source": [
    "### 1. Numpy.random.RandomState"
   ]
  },
  {
   "cell_type": "markdown",
   "metadata": {},
   "source": [
    "RandomState exposes a number of methods for generating random numbers drawn from a variety of probability distributions. The command np.random.RandomState(seed=None) constructs a random number generator. If seed is None, then RandomState will try to read data from /dev/urandom (or the Windows analogue) if available or seed from the clock otherwise. \n",
    "\n",
    "Lets create the RNG and call a random sequence of 5 numbers:"
   ]
  },
  {
   "cell_type": "code",
   "execution_count": 17,
   "metadata": {},
   "outputs": [],
   "source": [
    "rng = np.random.RandomState(seed = None)"
   ]
  },
  {
   "cell_type": "code",
   "execution_count": 18,
   "metadata": {},
   "outputs": [
    {
     "data": {
      "text/plain": [
       "array([ 0.47420501,  0.48510037,  1.45563539, -1.09920669, -2.25131129])"
      ]
     },
     "execution_count": 18,
     "metadata": {},
     "output_type": "execute_result"
    }
   ],
   "source": [
    "rng.randn(5)"
   ]
  },
  {
   "cell_type": "markdown",
   "metadata": {},
   "source": [
    "now run it again, with identical calls:\n"
   ]
  },
  {
   "cell_type": "code",
   "execution_count": 19,
   "metadata": {},
   "outputs": [],
   "source": [
    "rng2 = np.random.RandomState(seed = None)"
   ]
  },
  {
   "cell_type": "code",
   "execution_count": 20,
   "metadata": {},
   "outputs": [
    {
     "data": {
      "text/plain": [
       "array([ 0.20716259, -0.39900902, -1.01416859,  0.12058963,  1.22074212])"
      ]
     },
     "execution_count": 20,
     "metadata": {},
     "output_type": "execute_result"
    }
   ],
   "source": [
    "rng2.randn(5)"
   ]
  },
  {
   "cell_type": "markdown",
   "metadata": {},
   "source": [
    "It returned a different number sequence as (seed = None). What if we define the seed ?"
   ]
  },
  {
   "cell_type": "code",
   "execution_count": 21,
   "metadata": {},
   "outputs": [],
   "source": [
    "rng = np.random.RandomState(seed = 123)"
   ]
  },
  {
   "cell_type": "code",
   "execution_count": 22,
   "metadata": {},
   "outputs": [
    {
     "data": {
      "text/plain": [
       "array([-1.0856306 ,  0.99734545,  0.2829785 , -1.50629471, -0.57860025])"
      ]
     },
     "execution_count": 22,
     "metadata": {},
     "output_type": "execute_result"
    }
   ],
   "source": [
    "rng.randn(5)"
   ]
  },
  {
   "cell_type": "markdown",
   "metadata": {},
   "source": [
    "run the RNG again, with the same seed, and we get the same array of values:"
   ]
  },
  {
   "cell_type": "code",
   "execution_count": 23,
   "metadata": {},
   "outputs": [
    {
     "data": {
      "text/plain": [
       "array([-1.0856306 ,  0.99734545,  0.2829785 , -1.50629471, -0.57860025])"
      ]
     },
     "execution_count": 23,
     "metadata": {},
     "output_type": "execute_result"
    }
   ],
   "source": [
    "rng3 = np.random.RandomState(seed = 123)\n",
    "rng3.randn(5)"
   ]
  },
  {
   "cell_type": "markdown",
   "metadata": {},
   "source": [
    "### 2. numpy.random.seed\n",
    "This method is called when RandomState is initialized (see above). It can be called again to re-seed the generator. You can also use it to manually set the seed for randint to generate random numbers.\n",
    "\n",
    "For example, you could set the seed to 5678 and then ask randint to return a random integer within a defined range, as follows:"
   ]
  },
  {
   "cell_type": "code",
   "execution_count": 24,
   "metadata": {},
   "outputs": [
    {
     "data": {
      "text/plain": [
       "24"
      ]
     },
     "execution_count": 24,
     "metadata": {},
     "output_type": "execute_result"
    }
   ],
   "source": [
    "np.random.seed(5678)\n",
    "np.random.randint(1, 100)"
   ]
  },
  {
   "cell_type": "markdown",
   "metadata": {},
   "source": [
    "### 3. Numpy.random.get_state()\n",
    "This command returns a tuple representing the internal state of the generator. A tuple is a sequence of values, like a list, except that tuples are immutable. The tuple returned by get_state can be used much like a seed in order to create reproducible sequences of random numbers <sup>[16]</sup>\n",
    "\n",
    "The returned tuple has the following items:\n",
    "* the string ‘MT19937’.\n",
    "* a 1-D array of 624 unsigned integer keys.\n",
    "* an integer pos.\n",
    "* an integer has_gauss.\n",
    "* a float cached_gaussian."
   ]
  },
  {
   "cell_type": "code",
   "execution_count": 25,
   "metadata": {},
   "outputs": [
    {
     "data": {
      "text/plain": [
       "('MT19937', array([2817670114, 1962497881,  914027948, 1463440343, 1938887794,\n",
       "        1092405273, 2726328503, 2343148856,  741258043,  273416092,\n",
       "        2344723317,  193056740, 3743633300,  957678078, 3876900885,\n",
       "        2760083594, 1938161523, 2216869175, 2220072100, 2931112756,\n",
       "        1806881730, 2710473768, 2704375294, 3428424545, 2101762119,\n",
       "         160709904, 1056457662, 1569491757,  101953039, 1117059617,\n",
       "        3810068043, 2107176353, 3128530458,  162517664, 1413004986,\n",
       "         134885877, 1866579287,  243054771, 3354272377, 3316485039,\n",
       "         766475017, 2886663670, 3827112345, 4015725661, 4012480437,\n",
       "        1956829835, 1854065995,  427733846,  798972448, 1127767341,\n",
       "        3551560354,  972061951,  511129661, 4186138517, 2219638225,\n",
       "         791231207, 1996538239, 1598374079, 3179020503,  778160734,\n",
       "         225435774, 4097810135,  912937395,  480971914,  247785298,\n",
       "        3532107327,  186534415, 2564184188,  739276050,  249105914,\n",
       "         871771753, 1590879840, 3014046134, 2979433626, 1293579635,\n",
       "        4028707217, 2340572346, 3834325024,  559537776, 3562682152,\n",
       "        2397833977,  128404693,   45140422, 3102295860, 3598054190,\n",
       "        2538654404, 3073457860, 1738655095, 2163176771, 3975366148,\n",
       "        1789614528, 3517548346, 1678102157,   55323005, 2982654071,\n",
       "        3399073617, 2615081231,  219102024, 1751353693,  518525543,\n",
       "        2171388466, 3509763601,  678451266, 2886384566, 4062643214,\n",
       "        3155917445,   22394711, 2048491440, 3358654631,  778478602,\n",
       "         897927217, 3800224196,  734761967, 2154344267, 3164245220,\n",
       "        3634430628, 3672126852,  868243820, 3788726784, 1831562131,\n",
       "        3414628976, 1889055133, 2748708602, 1160134254,  683947598,\n",
       "        2011760320, 3943791367,  954291000, 3964462072, 4238150832,\n",
       "        1794304324,  351768995, 2427755322, 1992394311, 1173798343,\n",
       "        2912448822,   51540805, 2905420917, 2227016134, 2276595563,\n",
       "        3089372840, 3360648235, 2225397815, 1730476677, 2472464821,\n",
       "        3749991048, 2587793748,  671082553, 2603864753, 1354625044,\n",
       "        1003964990, 2217853131, 3509112685, 3724421683, 1218812061,\n",
       "        1015520667, 2008755200, 2689373480, 1910614172,   40171864,\n",
       "         226981426, 2074595458, 3610746404, 3449269644, 1783495033,\n",
       "        3970438649, 2530219921, 4167451715, 2830960449, 3667835074,\n",
       "        2656553762, 3049437587,  506510971, 1802724059, 3205445418,\n",
       "         120774861,  285481882, 1289715544, 3464318015, 4058957503,\n",
       "        2737261791, 3787497035, 2856298761, 1530200346,  592558550,\n",
       "        2692524434, 1036326026, 4200933164, 3431508851, 3669262824,\n",
       "         939015566,  246584935,  334237931,  800439876, 2984276990,\n",
       "        1088093126,  280357961, 2467022602, 1291680772, 1354871913,\n",
       "         559833127, 3767532335,  905451115, 3080218601, 1797900461,\n",
       "        3473867913, 3604355709, 1083510274,  371110119, 1652556421,\n",
       "        3358075494, 1337830822, 1318416414,  172067910,  991239634,\n",
       "        3663618079,  927449845, 3359964920, 1709337624,  878998975,\n",
       "        1289056074,  756311813,  689254267, 3849718506, 3992287769,\n",
       "        1108889383, 1167567983, 4186616415, 3063288856, 3419258003,\n",
       "        3752105691, 3265956040, 3183116078, 3787696341, 1482301283,\n",
       "        3287081797, 2313455544, 1800456801, 3914299410, 3190715604,\n",
       "        1722674990, 3831978140, 1909890676, 3242833565,  927106087,\n",
       "        2180299394, 1523607349,  629676213,  550750616, 1451145908,\n",
       "        1997717752, 1775767899, 3284324384, 4092969334, 1811111016,\n",
       "        3969386966, 2494013373,  278695081, 3575503596, 3057287430,\n",
       "        3406217612, 3155426250, 3496905987, 3473706987, 2291950847,\n",
       "        1949357200, 1496556195, 4225375428, 2286861477, 1317166270,\n",
       "        1896771549, 1091147743, 3611033253, 1815704021, 3358425549,\n",
       "        2351391983, 3694031144,  985524441, 3391904900, 1774151320,\n",
       "        2159130726, 1707666615, 3895381021, 3079128276, 1186476218,\n",
       "        3010387807, 2493547446,  887169597, 3508460133, 3786296206,\n",
       "        1489020761, 1726532414, 3031764857, 2200117555, 4140510988,\n",
       "        3921582102, 1510964147, 1779899540, 2833231038, 2978716237,\n",
       "         145134040, 1267397115, 1149277041, 3987418548, 2151300886,\n",
       "        2811673910, 2372185964, 4127066666, 1139488498,  674027832,\n",
       "        3981359069, 3086206730, 2307477831, 3482440227,  154376057,\n",
       "        1878452647, 1794437182, 4266058677, 2741697267, 2531332968,\n",
       "        3776721477, 3900987432,   36172857,  926763607, 2202740850,\n",
       "        4082352684,    1653915, 3445304647, 1632638979,  282717380,\n",
       "        3057061760, 3010301271, 1648591364, 2845943783, 3265166365,\n",
       "        3974548997,  357325135, 3035326074, 3857405956,    5278341,\n",
       "        2497456484, 3872588341, 1367572571,  898412600, 2769871368,\n",
       "         732904734,  681539507, 2676283587, 3590495503, 2940344042,\n",
       "        2539982549, 3230334122, 2569860493, 3845369932, 3630378244,\n",
       "        3304913081, 3159279893, 1093119624, 1071568193,   82497397,\n",
       "        1330414704, 2763032493, 1320406096,  489232630,  467455487,\n",
       "        3059154310, 3089214913,  234603019, 1415765328,  458653687,\n",
       "         753242311, 3081039729, 2487002286, 3506070602, 2148119415,\n",
       "        3098106688,  736121099, 2614695755,  833146587, 2769701225,\n",
       "        2473883737,  792682347, 1784628606, 1851264025,  373042794,\n",
       "        1950298670, 2669020028, 3853968123, 3873071917,  354661617,\n",
       "        3902163172, 3390744280,  803066361, 1757874243,  485459997,\n",
       "        3750467591, 3324619477, 2715728376, 3899715954,  340694262,\n",
       "        4229754221, 1736570486,  642796006, 3131649334, 2156446275,\n",
       "        1145826097, 3944203596, 4192099737,  599522907, 1009514492,\n",
       "        2017277704, 3522120950,  824970276, 4275928028, 3110508806,\n",
       "        2229576116,  879888345, 1069233977, 3784476199, 2074213827,\n",
       "        2004482550, 3845940876, 2242267435, 3521622579, 3776870193,\n",
       "        2290260658, 1291303324, 1093236285, 4060519652, 1388256226,\n",
       "        2442201726, 3092922314, 2601981441, 3891528444, 1871607667,\n",
       "        3740376708,  788760987, 4160936919, 1973318853, 2293644281,\n",
       "        2082465866, 2600601414,  418585295, 2679699025, 2124830274,\n",
       "        1355727264, 1372529968, 3716008808, 1180602362, 3626893421,\n",
       "        1528899099, 3447342865,  796386309, 2332170708, 3709851733,\n",
       "        1251858986,  319056972,  689572088, 1900764742, 3753660760,\n",
       "        3746097394, 2952840491,  407635855,  789780868, 2645166252,\n",
       "        3380599825, 4213831858, 1112216582, 2949354838,  671959926,\n",
       "        1535515383, 2292957951, 1560628503, 2353651420, 1227083750,\n",
       "        2324389144, 4225252098, 1343975588, 1197704373,  738308882,\n",
       "        1353843672,  223693641, 3377104767, 1521146510, 1642605967,\n",
       "         860050235, 1072953538, 2027610398, 1278398949, 3112343049,\n",
       "        3236185457, 2514894151, 3059745724, 3206043743,  139779706,\n",
       "        3534634109, 4075061841, 1039064211, 2546213156,  674804031,\n",
       "        2885868484,   17437002, 4085075236,  341810583,  692682582,\n",
       "        4154986476, 1510748960, 1628082196, 3632959063, 3354355399,\n",
       "        2723615584,  645908691, 3772690916, 2388279422, 3217347595,\n",
       "        1361320475, 2552340315, 2814125791, 2890394458,  286084571,\n",
       "        1322489372,  880181023, 2987438991,  675082317, 2082599547,\n",
       "        2932637932,  503674355, 1325961264, 2458465233, 2989527121,\n",
       "        1485366991, 2213852072, 1234612876, 2982625160, 3836737944,\n",
       "         491767641, 2905650532, 1267984236,   25501094, 2574637610,\n",
       "         749382742, 1938070271, 1389639687, 3249756419, 1551071824,\n",
       "        2444080128, 2188109259, 3663312932, 2963596685, 1808032510,\n",
       "         751995678, 2857204627, 2698411787, 2048904072, 3621406208,\n",
       "        2067352346, 2472834792,  186744311, 2123039564, 3854458821,\n",
       "        4256681441, 3676403562,  139842173,  575481010, 3271635011,\n",
       "        1774756753,   37330565, 2952055928, 3847563246, 1253024735,\n",
       "        2894309590,  728893682,  247275124, 2324873167,   27311218,\n",
       "         610390349, 1380221081, 3228030647, 1159437758, 1146806740,\n",
       "        3968062719, 2302398553,  683833865, 4096658847, 4144921537,\n",
       "         964333074, 2334002254, 3936007779,  115667152, 1366145601,\n",
       "        3728903518, 4273196616,  882523241,   38666453, 2413696916,\n",
       "        4088501651, 3406145203, 3626039687, 2018653487,  165529522,\n",
       "        3122612003,  524152036, 2610463132, 3425863109,  385626999,\n",
       "        2386657396, 1433675122, 2480768733, 4225660701, 3710485553,\n",
       "        3939001287, 3298713169, 1407767031,  940603425, 1945276249,\n",
       "        1066422304,  245931312, 3473968062, 2720869655, 4273229064,\n",
       "         646927159, 1801403261, 2381048872, 2513483556], dtype=uint32), 2, 0, 0.0)"
      ]
     },
     "execution_count": 25,
     "metadata": {},
     "output_type": "execute_result"
    }
   ],
   "source": [
    "np.random.get_state()"
   ]
  },
  {
   "cell_type": "markdown",
   "metadata": {},
   "source": [
    "### 4. numpy.random.set_state"
   ]
  },
  {
   "cell_type": "markdown",
   "metadata": {},
   "source": [
    "This command sets the internal state of the generator from a tuple (of the same parameters  as that generated by the numpy.random.get_state() command (above). It can be used if needed to manually (re-)set the internal state of the “Mersenne Twister”[R523523] pseudo-random number generating algorithm. <sup>[17]</sup>\n",
    "\n",
    "The command is: numpy.random.set_state(state)\n",
    "where state : tuple(str, ndarray of 624 uints, int, int, float)\n"
   ]
  },
  {
   "cell_type": "markdown",
   "metadata": {},
   "source": [
    "#### The random.uniform function\n",
    "\n",
    "A range of probability distributions is available to use within the RandomState function. For a uniform distribution, in which every value in the range defined has an equal chance of being picked, we can use the numpy.random.uniform function:"
   ]
  },
  {
   "cell_type": "code",
   "execution_count": 26,
   "metadata": {},
   "outputs": [],
   "source": [
    "import numpy as np"
   ]
  },
  {
   "cell_type": "code",
   "execution_count": 27,
   "metadata": {},
   "outputs": [
    {
     "data": {
      "text/plain": [
       "(array([107., 109.,  89., 103.,  89., 105.,  99.,  87., 109., 103.]),\n",
       " array([-0.9939068 ,  9.00425749, 19.00242177, 29.00058605, 38.99875034,\n",
       "        48.99691462, 58.99507891, 68.99324319, 78.99140748, 88.98957176,\n",
       "        98.98773604]),\n",
       " <a list of 10 Patch objects>)"
      ]
     },
     "execution_count": 27,
     "metadata": {},
     "output_type": "execute_result"
    },
    {
     "data": {
      "image/png": "[encoded data removed]",
      "text/plain": [
       "<Figure size 432x288 with 1 Axes>"
      ]
     },
     "metadata": {},
     "output_type": "display_data"
    }
   ],
   "source": [
    "# The sample size is 1000 and all values are within the given interval of >= -1 and <99.\n",
    "s = np.random.uniform(-1,99,1000)\n",
    "plt.xlabel ('values')\n",
    "plt.ylabel ('instances')\n",
    "plt.hist(s)\n"
   ]
  },
  {
   "cell_type": "markdown",
   "metadata": {},
   "source": [
    "#### The random.poisson function"
   ]
  },
  {
   "cell_type": "markdown",
   "metadata": {},
   "source": [
    "The Poisson distribution is specified by one parameter: lambda (λ). This parameter equals the mean and variance. As lambda increases to sufficiently large values, the normal distribution (λ, λ) may be used to approximate the Poisson distribution. <sup>[18]</sup>\n",
    "\n",
    "The Poisson distribution can be used to describe the number of times an event occurs in a finite observation space. For example, a Poisson distribution can describe the number of defects in the mechanical system of an airplane or the number of calls to a call center in an hour. The Poisson distribution is often used in quality control, reliability/survival studies, and insurance. A variable follows a Poisson distribution if the following conditions are met:\n",
    "\n",
    "* Data are counts of events (nonnegative integers with no upper bound).\n",
    "* All events are independent.\n",
    "* Average rate does not change over the period of interest."
   ]
  },
  {
   "cell_type": "code",
   "execution_count": 29,
   "metadata": {},
   "outputs": [
    {
     "data": {
      "text/plain": [
       "([array([ 0.,  0.,  4.,  8., 15., 27., 12., 18., 10.,  6.]),\n",
       "  array([25., 41., 24.,  6.,  2.,  2.,  0.,  0.,  0.,  0.])],\n",
       " array([ 0. ,  1.7,  3.4,  5.1,  6.8,  8.5, 10.2, 11.9, 13.6, 15.3, 17. ]),\n",
       " <a list of 2 Lists of Patches objects>)"
      ]
     },
     "execution_count": 29,
     "metadata": {},
     "output_type": "execute_result"
    },
    {
     "data": {
      "image/png": "[encoded data removed]",
      "text/plain": [
       "<Figure size 432x288 with 1 Axes>"
      ]
     },
     "metadata": {},
     "output_type": "display_data"
    }
   ],
   "source": [
    "# generate two random samples of 100 values each, using a poision distribution with lamdas \n",
    "# of 10 and 3.\n",
    "s = np.random.poisson(lam=(10, 3), size=(100, 2))\n",
    "plt.xlabel ('values')\n",
    "plt.ylabel ('instances')\n",
    "plt.hist(s)"
   ]
  },
  {
   "cell_type": "markdown",
   "metadata": {},
   "source": [
    "## Random numbers & probability - one final thought"
   ]
  },
  {
   "attachments": {},
   "cell_type": "markdown",
   "metadata": {},
   "source": [
    "<img src=\"files/Columbia.png\">"
   ]
  },
  {
   "cell_type": "markdown",
   "metadata": {},
   "source": [
    "#### Loss of the Columbia Space Shuttle - 2003\n",
    "\n",
    "On February 1, 2003, the NASA Space Shuttle \"Columbia\" disintegrated upon re-entering Earth's atmosphere, killing all seven crew members. The disaster was the second fatal accident in the Space Shuttle program after Space Shuttle \"Challenger\", which broke apart and killed the seven-member crew 73 seconds after liftoff in 1986 (Wikipedia).\n",
    "\n",
    "At the time, I recall that the public & media were in a state of shock, which was understandable. There were predictable knee-jerk demands to end the Shuttle program. However, I wondered whether the NASA engineers had forecast the probability of such an event. Of course they did. Shuttle reliability against loss of vehicle (RLOV) was originally calculated by NASA as 0.98 (ie. catastrophic loss of one vehicle per 50 launches). Columbia's was the 113th flight, and the 2nd such loss. So this tragic event was, therefore, predicted with astonishing accuracy by the program engineers. It's a contingency they planned for and the astronauts were fully aware of, yet the media expressed astonishment and outrage at this predictable turn of events. \n",
    "\n",
    "#### Colm Doherty"
   ]
  },
  {
   "cell_type": "markdown",
   "metadata": {},
   "source": [
    "### References"
   ]
  },
  {
   "cell_type": "markdown",
   "metadata": {},
   "source": [
    "1. http://www.numpy.org/\n",
    "2. https://en.wikipedia.org/wiki/Random_number_generation\n",
    "2a. https://en.wikipedia.org/wiki/Randomized_controlled_trial\n",
    "3. https://onlinecourses.science.psu.edu/stat100/node/18/\n",
    "4. https://explorable.com/non-probability-sampling\n",
    "5. https://docs.scipy.org/doc/numpy-1.14.1/reference/routines.random.html#\n",
    "6. (https://docs.scipy.org/doc/numpy-1.15.1/reference/generated/numpy.random.rand.html#numpy.random.rand)\n",
    "7. (https://docs.scipy.org/doc/numpy-1.14.1/reference/generated/numpy.random.randint.html#numpy.random.randint)\n",
    "8. (https://en.wikipedia.org/wiki/Probability_distribution#Applications)\n",
    "9. https://math.stackexchange.com/questions/24204/understanding-the-pareto-distribution-as-applied-to-wealth\n",
    "10. http://sphweb.bumc.bu.edu/otlt/MPH-Modules/BS/BS704_Probability/BS704_Probability7.html\n",
    "11. https://docs.scipy.org/doc/numpy-1.14.1/reference/generated/numpy.random.binomial.html#numpy.random.binomial\n",
    "12. https://support.minitab.com/en-us/minitab-express/1/help-and-how-to/basic-statistics/probability-distributions/supporting-topics/distributions/exponential-distribution/\n",
    "13. https://en.wikipedia.org/wiki/Exponential_distribution\n",
    "https://www.youtube.com/watch?v=4PEX-SuftjQ\n",
    "14. https://www.quora.com/What-is-seed-in-random-number-generation\n",
    "15. https://stackoverflow.com/questions/22994423/difference-between-np-random-seed-and-np-random-randomstate\n",
    "16. https://docs.scipy.org/doc/numpy-1.14.1/reference/generated/numpy.random.get_state.html#numpy.random.get_state\n",
    "17. https://docs.scipy.org/doc/numpy-1.14.1/reference/generated/numpy.random.set_state.html#numpy.random.set_state\n",
    "18. https://support.minitab.com/en-us/minitab-express/1/help-and-how-to/basic-statistics/probability-distributions/supporting-topics/distributions/poisson-distribution/\n",
    "\n"
   ]
  },
  {
   "cell_type": "code",
   "execution_count": null,
   "metadata": {},
   "outputs": [],
   "source": []
  }
 ],
 "metadata": {
  "kernelspec": {
   "display_name": "Python 3",
   "language": "python",
   "name": "python3"
  },
  "language_info": {
   "codemirror_mode": {
    "name": "ipython",
    "version": 3
   },
   "file_extension": ".py",
   "mimetype": "text/x-python",
   "name": "python",
   "nbconvert_exporter": "python",
   "pygments_lexer": "ipython3",
   "version": "3.6.5"
  }
 },
 "nbformat": 4,
 "nbformat_minor": 2
}
